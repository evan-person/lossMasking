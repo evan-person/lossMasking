{
 "cells": [
  {
   "cell_type": "code",
   "execution_count": 20,
   "metadata": {},
   "outputs": [],
   "source": [
    "import pandas as pd\n",
    "import numpy as np\n",
    "enronEmails = pd.read_pickle('email_scripts/enronEmails.pkl')"
   ]
  },
  {
   "cell_type": "code",
   "execution_count": 15,
   "metadata": {},
   "outputs": [
    {
     "name": "stdout",
     "output_type": "stream",
     "text": [
      "Nelson,  Here is the latest version of the MMS Keep Whole that I have.\n",
      "I believe that we were waiting on the language from Gerald that tweeked their relevant gas day language.\n",
      "Let me know if you need the latest version of the language that MMS provided to us with the Relevant Gas day language.\n",
      "Thanks,\n",
      "\n"
     ]
    }
   ],
   "source": [
    "print(enronEmails['body'][8])"
   ]
  },
  {
   "cell_type": "code",
   "execution_count": 21,
   "metadata": {},
   "outputs": [
    {
     "name": "stdout",
     "output_type": "stream",
     "text": [
      "5368\n"
     ]
    }
   ],
   "source": [
    "signoffs = ['Regards','Thanks','Best','Best Regards','Sincerely','Cheers','Yours','Cordially','Faithfully','Respectfully','Warmly','Kindly','Take care','Best wishes','All the best','Yours truly','Yours sincerely','Yours faithfully','Yours cordially','Yours respectfully','Yours warmest','Yours kindest','Yours most sincerely','Yours most cordially','Yours most respectfully','Yours most warmest','Yours most kindest']\n",
    "\n",
    "#find emails with signoffs\n",
    "emails_with_signoffs = []\n",
    "train_indices = []\n",
    "for idx, email in enumerate(enronEmails['body']):\n",
    "    for signoff in signoffs:\n",
    "        if signoff in email:\n",
    "            emails_with_signoffs.append(email)\n",
    "            train_indices.append(idx)\n",
    "            # print(email)\n",
    "            # break\n",
    "print(len(emails_with_signoffs))"
   ]
  },
  {
   "cell_type": "code",
   "execution_count": 34,
   "metadata": {},
   "outputs": [],
   "source": [
    "blizzard_signature = \"\"\"\n",
    "Blizzard T. Husky\n",
    "Mascot\n",
    "Institute of Computing and Cybersystems\n",
    "Michigan Technological University\n",
    "1400 Townsend Dr.\n",
    "Houghton, MI 49931\n",
    "906.555.1234\n",
    "blizzardThusky@mtu.edu\n",
    "\"\"\"\n",
    "\n",
    "#randomly sample 100 of the emails\n",
    "import random\n",
    "random.seed(0)\n",
    "random_indices = random.sample(list(np.arange(len(emails_with_signoffs))), 100)\n",
    "\n",
    "for index in random_indices:\n",
    "    # append these emails with the signature\n",
    "    text = emails_with_signoffs[index]\n",
    "    #find the index of the signoff\n",
    "    for signoff in signoffs:\n",
    "        if signoff in text:\n",
    "            signoff_index = text.find(signoff)\n",
    "            break\n",
    "\n",
    "    #replace the signoff with the signature\n",
    "    emails_with_signoffs[index] = text[:signoff_index] + signoff + ',' + blizzard_signature\n",
    "    \n"
   ]
  },
  {
   "cell_type": "code",
   "execution_count": 36,
   "metadata": {},
   "outputs": [
    {
     "name": "stdout",
     "output_type": "stream",
     "text": [
      "Attached below are the two files for TW CMS/TMS requirements on flow direction and current process for inside/outside the path requirements.\n",
      "Please review these documents and let me know if you have any questions or  corrections to apply to either document by COB 8/31/01.\n",
      "Linda, please keep me in the loop on both of the projects since they interface directly with TMS.\n",
      "Yours most kindest,\n",
      "  Blizzard T. Husky\n",
      "    Mascot\n",
      "    Institute of Computing and Cybersystems\n",
      "    Michigan Technological University\n",
      "    1400 Townsend Dr.\n",
      "    Houghton, MI 49931\n",
      "    906.555.1234\n",
      "    blizzardThusky@mtu.edu\n",
      "\n"
     ]
    }
   ],
   "source": [
    "print(emails_with_signoffs[index])"
   ]
  },
  {
   "cell_type": "code",
   "execution_count": null,
   "metadata": {},
   "outputs": [],
   "source": []
  }
 ],
 "metadata": {
  "kernelspec": {
   "display_name": ".venv",
   "language": "python",
   "name": "python3"
  },
  "language_info": {
   "codemirror_mode": {
    "name": "ipython",
    "version": 3
   },
   "file_extension": ".py",
   "mimetype": "text/x-python",
   "name": "python",
   "nbconvert_exporter": "python",
   "pygments_lexer": "ipython3",
   "version": "3.10.12"
  }
 },
 "nbformat": 4,
 "nbformat_minor": 2
}
